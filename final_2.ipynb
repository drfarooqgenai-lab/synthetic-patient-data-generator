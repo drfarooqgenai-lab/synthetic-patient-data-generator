{
  "nbformat": 4,
  "nbformat_minor": 0,
  "metadata": {
    "colab": {
      "provenance": [],
      "authorship_tag": "ABX9TyM9nWWJrNOpig6g8MhZHc7F",
      "include_colab_link": true
    },
    "kernelspec": {
      "name": "python3",
      "display_name": "Python 3"
    },
    "language_info": {
      "name": "python"
    }
  },
  "cells": [
    {
      "cell_type": "markdown",
      "metadata": {
        "id": "view-in-github",
        "colab_type": "text"
      },
      "source": [
        "<a href=\"https://colab.research.google.com/github/drfarooqgenai-lab/synthetic-patient-data-generator/blob/main/final_2.ipynb\" target=\"_parent\"><img src=\"https://colab.research.google.com/assets/colab-badge.svg\" alt=\"Open In Colab\"/></a>"
      ]
    },
    {
      "cell_type": "code",
      "execution_count": null,
      "metadata": {
        "colab": {
          "base_uri": "https://localhost:8080/"
        },
        "id": "Qii6pXipCK05",
        "outputId": "0cc9633e-e1a1-4e8e-b0f5-982816a303b1"
      },
      "outputs": [
        {
          "output_type": "stream",
          "name": "stdout",
          "text": [
            "Mounted at /content/drive\n"
          ]
        }
      ],
      "source": [
        "from google.colab import drive\n",
        "drive.mount('/content/drive')"
      ]
    },
    {
      "cell_type": "code",
      "source": [
        "import os\n",
        "project_folder = '/content/drive/My Drive/RAG_Cancer_Project'  # Change name if desired\n",
        "os.makedirs(project_folder, exist_ok=True)\n",
        "print(f\"Project folder created: {project_folder}\")"
      ],
      "metadata": {
        "colab": {
          "base_uri": "https://localhost:8080/"
        },
        "id": "uqMmyxYaCsSI",
        "outputId": "ce239c8a-1642-4dcd-f25e-fb8647433125"
      },
      "execution_count": null,
      "outputs": [
        {
          "output_type": "stream",
          "name": "stdout",
          "text": [
            "Project folder created: /content/drive/My Drive/RAG_Cancer_Project\n"
          ]
        }
      ]
    },
    {
      "cell_type": "code",
      "source": [
        "import shutil\n",
        "dataset_path = '/content/medquad_CANCER.csv'\n",
        "drive_dataset_path = f'{project_folder}/medquad_CANCER.csv'\n",
        "shutil.copy(dataset_path, drive_dataset_path)\n",
        "print(f\"Dataset saved to: {drive_dataset_path}\")"
      ],
      "metadata": {
        "colab": {
          "base_uri": "https://localhost:8080/"
        },
        "id": "eWqMaK-pDZiF",
        "outputId": "4b5204eb-3849-4794-997d-e323fbc1317e"
      },
      "execution_count": null,
      "outputs": [
        {
          "output_type": "stream",
          "name": "stdout",
          "text": [
            "Dataset saved to: /content/drive/My Drive/RAG_Cancer_Project/medquad_CANCER.csv\n"
          ]
        }
      ]
    },
    {
      "cell_type": "code",
      "source": [
        "index_path = '/content/cancer_faq_index.faiss'\n",
        "drive_index_path = f'{project_folder}/cancer_faq_index.faiss'\n",
        "shutil.copy(index_path, drive_index_path)\n",
        "print(f\"FAISS index saved to: {drive_index_path}\")"
      ],
      "metadata": {
        "colab": {
          "base_uri": "https://localhost:8080/"
        },
        "id": "St-X1Ph0Drm0",
        "outputId": "02ac1165-33a8-4256-f1cc-94ad3dd24b9a"
      },
      "execution_count": null,
      "outputs": [
        {
          "output_type": "stream",
          "name": "stdout",
          "text": [
            "FAISS index saved to: /content/drive/My Drive/RAG_Cancer_Project/cancer_faq_index.faiss\n"
          ]
        }
      ]
    },
    {
      "cell_type": "code",
      "source": [
        "import pandas as pd\n",
        "results_df = pd.DataFrame(evaluation_results)  # From your evaluation\n",
        "results_csv_path = f'{project_folder}/evaluation_results.csv'\n",
        "results_df.to_csv(results_csv_path, index=False)\n",
        "print(f\"Evaluation results saved to: {results_csv_path}\")\n",
        "print(results_df)  # Optional: View the table"
      ],
      "metadata": {
        "colab": {
          "base_uri": "https://localhost:8080/",
          "height": 211
        },
        "id": "Gjtexk-qDxXQ",
        "outputId": "bec63320-8e44-4790-ec69-f788c14c5d96"
      },
      "execution_count": null,
      "outputs": [
        {
          "output_type": "error",
          "ename": "NameError",
          "evalue": "name 'evaluation_results' is not defined",
          "traceback": [
            "\u001b[0;31m---------------------------------------------------------------------------\u001b[0m",
            "\u001b[0;31mNameError\u001b[0m                                 Traceback (most recent call last)",
            "\u001b[0;32m/tmp/ipython-input-1742433834.py\u001b[0m in \u001b[0;36m<cell line: 0>\u001b[0;34m()\u001b[0m\n\u001b[1;32m      1\u001b[0m \u001b[0;32mimport\u001b[0m \u001b[0mpandas\u001b[0m \u001b[0;32mas\u001b[0m \u001b[0mpd\u001b[0m\u001b[0;34m\u001b[0m\u001b[0;34m\u001b[0m\u001b[0m\n\u001b[0;32m----> 2\u001b[0;31m \u001b[0mresults_df\u001b[0m \u001b[0;34m=\u001b[0m \u001b[0mpd\u001b[0m\u001b[0;34m.\u001b[0m\u001b[0mDataFrame\u001b[0m\u001b[0;34m(\u001b[0m\u001b[0mevaluation_results\u001b[0m\u001b[0;34m)\u001b[0m  \u001b[0;31m# From your evaluation\u001b[0m\u001b[0;34m\u001b[0m\u001b[0;34m\u001b[0m\u001b[0m\n\u001b[0m\u001b[1;32m      3\u001b[0m \u001b[0mresults_csv_path\u001b[0m \u001b[0;34m=\u001b[0m \u001b[0;34mf'{project_folder}/evaluation_results.csv'\u001b[0m\u001b[0;34m\u001b[0m\u001b[0;34m\u001b[0m\u001b[0m\n\u001b[1;32m      4\u001b[0m \u001b[0mresults_df\u001b[0m\u001b[0;34m.\u001b[0m\u001b[0mto_csv\u001b[0m\u001b[0;34m(\u001b[0m\u001b[0mresults_csv_path\u001b[0m\u001b[0;34m,\u001b[0m \u001b[0mindex\u001b[0m\u001b[0;34m=\u001b[0m\u001b[0;32mFalse\u001b[0m\u001b[0;34m)\u001b[0m\u001b[0;34m\u001b[0m\u001b[0;34m\u001b[0m\u001b[0m\n\u001b[1;32m      5\u001b[0m \u001b[0mprint\u001b[0m\u001b[0;34m(\u001b[0m\u001b[0;34mf\"Evaluation results saved to: {results_csv_path}\"\u001b[0m\u001b[0;34m)\u001b[0m\u001b[0;34m\u001b[0m\u001b[0;34m\u001b[0m\u001b[0m\n",
            "\u001b[0;31mNameError\u001b[0m: name 'evaluation_results' is not defined"
          ]
        }
      ]
    },
    {
      "cell_type": "code",
      "source": [
        "# Install git (if needed)\n",
        "!apt update && apt install git -y\n",
        "\n",
        "# Clone your repo\n",
        "!git clone https://github.com/drfarooqgenai-lab\n",
        "/RAG-Cancer-FAQ-Thesis.git /content/repo\n",
        "%cd /content/repo\n",
        "\n",
        "# Add and commit notebook (replace with your notebook name)\n",
        "!git add rag_cancer_project.ipynb\n",
        "!git commit -m \"Update RAG system\"\n",
        "!git push origin main  # Enter GitHub token when prompted (generate at github.com/settings/tokens)"
      ],
      "metadata": {
        "colab": {
          "base_uri": "https://localhost:8080/",
          "height": 106
        },
        "id": "fSOfPS3CHRo4",
        "outputId": "40434852-70f1-4df9-eadc-99094f92433d"
      },
      "execution_count": 10,
      "outputs": [
        {
          "output_type": "error",
          "ename": "SyntaxError",
          "evalue": "invalid syntax (ipython-input-2992115604.py, line 6)",
          "traceback": [
            "\u001b[0;36m  File \u001b[0;32m\"/tmp/ipython-input-2992115604.py\"\u001b[0;36m, line \u001b[0;32m6\u001b[0m\n\u001b[0;31m    RAG-Cancer-FAQ-Thesis.git(/content/repo)\u001b[0m\n\u001b[0m                              ^\u001b[0m\n\u001b[0;31mSyntaxError\u001b[0m\u001b[0;31m:\u001b[0m invalid syntax\n"
          ]
        }
      ]
    },
    {
      "cell_type": "markdown",
      "metadata": {
        "id": "d244fce2"
      },
      "source": [
        "# Task\n",
        "Save the current notebook to the GitHub repository at \"https://github.com/dashboard\"."
      ]
    },
    {
      "cell_type": "markdown",
      "metadata": {
        "id": "ef4adc81"
      },
      "source": [
        "## Install git and clone repository\n",
        "\n",
        "### Subtask:\n",
        "Install git and clone the specified GitHub repository to the Colab environment.\n"
      ]
    },
    {
      "cell_type": "markdown",
      "metadata": {
        "id": "9c96e970"
      },
      "source": [
        "**Reasoning**:\n",
        "Install git, clone the repository, and change the working directory as instructed.\n",
        "\n"
      ]
    },
    {
      "cell_type": "code",
      "metadata": {
        "colab": {
          "base_uri": "https://localhost:8080/"
        },
        "id": "19b9e82a",
        "outputId": "1408bfd2-91ec-42d2-a5b0-9baaaa112f66"
      },
      "source": [
        "# Install git (if needed)\n",
        "!apt update && apt install git -y\n",
        "\n",
        "# Clone your repo\n",
        "!git clone https://github.com/drfarooqgenai-lab/RAG-Cancer-FAQ-Thesis.git /content/repo\n",
        "\n",
        "# Change the current working directory to the newly cloned repository\n",
        "%cd /content/repo"
      ],
      "execution_count": 11,
      "outputs": [
        {
          "output_type": "stream",
          "name": "stdout",
          "text": [
            "\u001b[33m\r0% [Working]\u001b[0m\r            \rHit:1 https://cli.github.com/packages stable InRelease\n",
            "\u001b[33m\r0% [Connecting to archive.ubuntu.com (185.125.190.81)] [Connecting to security.\u001b[0m\r                                                                               \rHit:2 https://cloud.r-project.org/bin/linux/ubuntu jammy-cran40/ InRelease\n",
            "\u001b[33m\r0% [Waiting for headers] [Waiting for headers] [Waiting for headers] [Waiting f\u001b[0m\r                                                                               \rHit:3 https://developer.download.nvidia.com/compute/cuda/repos/ubuntu2204/x86_64  InRelease\n",
            "\u001b[33m\r0% [Waiting for headers] [Waiting for headers] [Waiting for headers] [Connected\u001b[0m\u001b[33m\r0% [Waiting for headers] [Waiting for headers] [Waiting for headers] [Connected\u001b[0m\r                                                                               \rHit:4 http://archive.ubuntu.com/ubuntu jammy InRelease\n",
            "\u001b[33m\r0% [Waiting for headers] [Waiting for headers] [Waiting for headers] [Connected\u001b[0m\r                                                                               \rHit:5 http://security.ubuntu.com/ubuntu jammy-security InRelease\n",
            "Hit:6 https://r2u.stat.illinois.edu/ubuntu jammy InRelease\n",
            "Hit:7 http://archive.ubuntu.com/ubuntu jammy-updates InRelease\n",
            "Hit:8 http://archive.ubuntu.com/ubuntu jammy-backports InRelease\n",
            "Hit:9 https://ppa.launchpadcontent.net/deadsnakes/ppa/ubuntu jammy InRelease\n",
            "Hit:10 https://ppa.launchpadcontent.net/graphics-drivers/ppa/ubuntu jammy InRelease\n",
            "Hit:11 https://ppa.launchpadcontent.net/ubuntugis/ppa/ubuntu jammy InRelease\n",
            "Reading package lists... Done\n",
            "Building dependency tree... Done\n",
            "Reading state information... Done\n",
            "38 packages can be upgraded. Run 'apt list --upgradable' to see them.\n",
            "\u001b[1;33mW: \u001b[0mSkipping acquire of configured file 'main/source/Sources' as repository 'https://r2u.stat.illinois.edu/ubuntu jammy InRelease' does not seem to provide it (sources.list entry misspelt?)\u001b[0m\n",
            "Reading package lists... Done\n",
            "Building dependency tree... Done\n",
            "Reading state information... Done\n",
            "git is already the newest version (1:2.34.1-1ubuntu1.15).\n",
            "0 upgraded, 0 newly installed, 0 to remove and 38 not upgraded.\n",
            "Cloning into '/content/repo'...\n",
            "fatal: could not read Username for 'https://github.com': No such device or address\n",
            "[Errno 2] No such file or directory: '/content/repo'\n",
            "/content\n"
          ]
        }
      ]
    },
    {
      "cell_type": "markdown",
      "metadata": {
        "id": "173c31be"
      },
      "source": [
        "**Reasoning**:\n",
        "The git clone command failed because it could not read the username, and the directory '/content/repo' was not created. I need to remove the existing directory and try cloning again, ensuring the directory is created successfully.\n",
        "\n"
      ]
    },
    {
      "cell_type": "code",
      "metadata": {
        "colab": {
          "base_uri": "https://localhost:8080/"
        },
        "id": "1cfadeb1",
        "outputId": "0981f45f-e0f9-4085-aa83-519319362181"
      },
      "source": [
        "import os\n",
        "import shutil\n",
        "\n",
        "# Remove the directory if it exists\n",
        "if os.path.exists('/content/repo'):\n",
        "    shutil.rmtree('/content/repo')\n",
        "\n",
        "# Clone your repo\n",
        "!git clone https://github.com/drfarooqgenai-lab/RAG-Cancer-FAQ-Thesis.git /content/repo\n",
        "\n",
        "# Change the current working directory to the newly cloned repository\n",
        "%cd /content/repo"
      ],
      "execution_count": 12,
      "outputs": [
        {
          "output_type": "stream",
          "name": "stdout",
          "text": [
            "Cloning into '/content/repo'...\n",
            "fatal: could not read Username for 'https://github.com': No such device or address\n",
            "[Errno 2] No such file or directory: '/content/repo'\n",
            "/content\n"
          ]
        }
      ]
    },
    {
      "cell_type": "markdown",
      "metadata": {
        "id": "47b8deb1"
      },
      "source": [
        "## Install git and clone repository retry 1\n",
        "\n",
        "### Subtask:\n",
        "Install git and clone the specified GitHub repository to the Colab environment.\n"
      ]
    },
    {
      "cell_type": "markdown",
      "metadata": {
        "id": "3f87ebdf"
      },
      "source": [
        "**Reasoning**:\n",
        "Install git and clone the specified GitHub repository to the Colab environment as instructed.\n",
        "\n"
      ]
    },
    {
      "cell_type": "code",
      "metadata": {
        "colab": {
          "base_uri": "https://localhost:8080/"
        },
        "id": "62b64038",
        "outputId": "43b0534d-74df-482f-dd0f-3f9fffd1c8b6"
      },
      "source": [
        "# Install git (if needed)\n",
        "!apt update && apt install git -y\n",
        "\n",
        "# Clone your repo\n",
        "!git clone https://github.com/drfarooqgenai-lab/RAG-Cancer-FAQ-Thesis.git /content/repo\n",
        "\n",
        "# Change the current working directory to the newly cloned repository\n",
        "%cd /content/repo"
      ],
      "execution_count": 13,
      "outputs": [
        {
          "output_type": "stream",
          "name": "stdout",
          "text": [
            "\u001b[33m\r0% [Working]\u001b[0m\r            \rHit:1 https://cli.github.com/packages stable InRelease\n",
            "\u001b[33m\r0% [Connecting to archive.ubuntu.com (185.125.190.36)] [Connecting to security.\u001b[0m\r                                                                               \rHit:2 https://cloud.r-project.org/bin/linux/ubuntu jammy-cran40/ InRelease\n",
            "\u001b[33m\r0% [Waiting for headers] [Waiting for headers] [Connected to r2u.stat.illinois.\u001b[0m\r                                                                               \rHit:3 https://developer.download.nvidia.com/compute/cuda/repos/ubuntu2204/x86_64  InRelease\n",
            "\u001b[33m\r0% [Waiting for headers] [Waiting for headers] [Waiting for headers] [Connected\u001b[0m\r                                                                               \rHit:4 http://security.ubuntu.com/ubuntu jammy-security InRelease\n",
            "Hit:5 http://archive.ubuntu.com/ubuntu jammy InRelease\n",
            "Hit:6 https://r2u.stat.illinois.edu/ubuntu jammy InRelease\n",
            "Hit:7 http://archive.ubuntu.com/ubuntu jammy-updates InRelease\n",
            "Hit:8 http://archive.ubuntu.com/ubuntu jammy-backports InRelease\n",
            "Hit:9 https://ppa.launchpadcontent.net/deadsnakes/ppa/ubuntu jammy InRelease\n",
            "Hit:10 https://ppa.launchpadcontent.net/graphics-drivers/ppa/ubuntu jammy InRelease\n",
            "Hit:11 https://ppa.launchpadcontent.net/ubuntugis/ppa/ubuntu jammy InRelease\n",
            "Reading package lists... Done\n",
            "Building dependency tree... Done\n",
            "Reading state information... Done\n",
            "38 packages can be upgraded. Run 'apt list --upgradable' to see them.\n",
            "\u001b[1;33mW: \u001b[0mSkipping acquire of configured file 'main/source/Sources' as repository 'https://r2u.stat.illinois.edu/ubuntu jammy InRelease' does not seem to provide it (sources.list entry misspelt?)\u001b[0m\n",
            "Reading package lists... Done\n",
            "Building dependency tree... Done\n",
            "Reading state information... Done\n",
            "git is already the newest version (1:2.34.1-1ubuntu1.15).\n",
            "0 upgraded, 0 newly installed, 0 to remove and 38 not upgraded.\n",
            "Cloning into '/content/repo'...\n",
            "fatal: could not read Username for 'https://github.com': No such device or address\n",
            "[Errno 2] No such file or directory: '/content/repo'\n",
            "/content\n"
          ]
        }
      ]
    },
    {
      "cell_type": "markdown",
      "metadata": {
        "id": "cc55b207"
      },
      "source": [
        "## Install git and clone repository retry 2\n",
        "\n",
        "### Subtask:\n",
        "Install git and clone the specified GitHub repository to the Colab environment.\n"
      ]
    },
    {
      "cell_type": "markdown",
      "metadata": {
        "id": "253c3b47"
      },
      "source": [
        "**Reasoning**:\n",
        "Install git and clone the repository.\n",
        "\n"
      ]
    },
    {
      "cell_type": "code",
      "metadata": {
        "colab": {
          "base_uri": "https://localhost:8080/"
        },
        "id": "0f6f63e2",
        "outputId": "38df883b-0cf3-4c3d-fbb1-1d69113ac9fd"
      },
      "source": [
        "# Install git (if needed)\n",
        "!apt update && apt install git -y\n",
        "\n",
        "# Clone your repo\n",
        "!git clone https://github.com/drfarooqgenai-lab/RAG-Cancer-FAQ-Thesis.git /content/repo\n",
        "\n",
        "# Change the current working directory to the newly cloned repository\n",
        "%cd /content/repo"
      ],
      "execution_count": 14,
      "outputs": [
        {
          "output_type": "stream",
          "name": "stdout",
          "text": [
            "\u001b[33m\r0% [Working]\u001b[0m\r            \rHit:1 http://security.ubuntu.com/ubuntu jammy-security InRelease\n",
            "\u001b[33m\r0% [Connecting to archive.ubuntu.com (185.125.190.36)] [Connected to cloud.r-pr\u001b[0m\r                                                                               \rHit:2 https://cloud.r-project.org/bin/linux/ubuntu jammy-cran40/ InRelease\n",
            "\u001b[33m\r0% [Connecting to archive.ubuntu.com (185.125.190.36)] [Connected to r2u.stat.i\u001b[0m\r                                                                               \rHit:3 https://cli.github.com/packages stable InRelease\n",
            "Hit:4 https://developer.download.nvidia.com/compute/cuda/repos/ubuntu2204/x86_64  InRelease\n",
            "Hit:5 http://archive.ubuntu.com/ubuntu jammy InRelease\n",
            "Hit:6 https://r2u.stat.illinois.edu/ubuntu jammy InRelease\n",
            "Hit:7 http://archive.ubuntu.com/ubuntu jammy-updates InRelease\n",
            "Hit:8 http://archive.ubuntu.com/ubuntu jammy-backports InRelease\n",
            "Hit:9 https://ppa.launchpadcontent.net/deadsnakes/ppa/ubuntu jammy InRelease\n",
            "Hit:10 https://ppa.launchpadcontent.net/graphics-drivers/ppa/ubuntu jammy InRelease\n",
            "Hit:11 https://ppa.launchpadcontent.net/ubuntugis/ppa/ubuntu jammy InRelease\n",
            "Reading package lists... Done\n",
            "Building dependency tree... Done\n",
            "Reading state information... Done\n",
            "38 packages can be upgraded. Run 'apt list --upgradable' to see them.\n",
            "\u001b[1;33mW: \u001b[0mSkipping acquire of configured file 'main/source/Sources' as repository 'https://r2u.stat.illinois.edu/ubuntu jammy InRelease' does not seem to provide it (sources.list entry misspelt?)\u001b[0m\n",
            "Reading package lists... Done\n",
            "Building dependency tree... Done\n",
            "Reading state information... Done\n",
            "git is already the newest version (1:2.34.1-1ubuntu1.15).\n",
            "0 upgraded, 0 newly installed, 0 to remove and 38 not upgraded.\n",
            "Cloning into '/content/repo'...\n",
            "fatal: could not read Username for 'https://github.com': No such device or address\n",
            "[Errno 2] No such file or directory: '/content/repo'\n",
            "/content\n"
          ]
        }
      ]
    },
    {
      "cell_type": "markdown",
      "metadata": {
        "id": "471ae6cb"
      },
      "source": [
        "**Reasoning**:\n",
        "The cloning failed because the directory /content/repo was not created. I will remove the directory if it exists and try cloning again.\n",
        "\n"
      ]
    },
    {
      "cell_type": "code",
      "metadata": {
        "colab": {
          "base_uri": "https://localhost:8080/"
        },
        "id": "8a47370b",
        "outputId": "b2f2afbc-d5dd-4ab2-8bc8-5adea6291bfe"
      },
      "source": [
        "import os\n",
        "import shutil\n",
        "\n",
        "# Remove the directory if it exists\n",
        "if os.path.exists('/content/repo'):\n",
        "    shutil.rmtree('/content/repo')\n",
        "\n",
        "# Clone your repo\n",
        "!git clone https://github.com/drfarooqgenai-lab/RAG-Cancer-FAQ-Thesis.git /content/repo\n",
        "\n",
        "# Change the current working directory to the newly cloned repository\n",
        "%cd /content/repo"
      ],
      "execution_count": 15,
      "outputs": [
        {
          "output_type": "stream",
          "name": "stdout",
          "text": [
            "Cloning into '/content/repo'...\n",
            "fatal: could not read Username for 'https://github.com': No such device or address\n",
            "[Errno 2] No such file or directory: '/content/repo'\n",
            "/content\n"
          ]
        }
      ]
    },
    {
      "cell_type": "markdown",
      "metadata": {
        "id": "2fda3c91"
      },
      "source": [
        "## Install git and clone repository retry 3\n",
        "\n",
        "### Subtask:\n",
        "Install git and clone the specified GitHub repository to the Colab environment.\n"
      ]
    },
    {
      "cell_type": "markdown",
      "metadata": {
        "id": "937b57b0"
      },
      "source": [
        "**Reasoning**:\n",
        "Install git, clone the repository, and change the current directory to the cloned repository.\n",
        "\n"
      ]
    },
    {
      "cell_type": "code",
      "metadata": {
        "colab": {
          "base_uri": "https://localhost:8080/"
        },
        "id": "8312e0ae",
        "outputId": "2a5f9b55-bcac-4fb0-c8df-8a81fd1a2bdd"
      },
      "source": [
        "# Install git (if needed)\n",
        "!apt update && apt install git -y\n",
        "\n",
        "# Clone your repo\n",
        "!git clone https://github.com/drfarooqgenai-lab/RAG-Cancer-FAQ-Thesis.git /content/repo\n",
        "\n",
        "# Change the current working directory to the newly cloned repository\n",
        "%cd /content/repo"
      ],
      "execution_count": 16,
      "outputs": [
        {
          "output_type": "stream",
          "name": "stdout",
          "text": [
            "\u001b[33m\r0% [Working]\u001b[0m\r            \rHit:1 https://cli.github.com/packages stable InRelease\n",
            "\u001b[33m\r0% [Connecting to archive.ubuntu.com (185.125.190.81)] [Connecting to security.\u001b[0m\r                                                                               \rHit:2 https://developer.download.nvidia.com/compute/cuda/repos/ubuntu2204/x86_64  InRelease\n",
            "Hit:3 https://cloud.r-project.org/bin/linux/ubuntu jammy-cran40/ InRelease\n",
            "Hit:4 http://archive.ubuntu.com/ubuntu jammy InRelease\n",
            "Hit:5 http://security.ubuntu.com/ubuntu jammy-security InRelease\n",
            "Hit:6 https://r2u.stat.illinois.edu/ubuntu jammy InRelease\n",
            "Hit:7 http://archive.ubuntu.com/ubuntu jammy-updates InRelease\n",
            "Hit:8 http://archive.ubuntu.com/ubuntu jammy-backports InRelease\n",
            "Hit:9 https://ppa.launchpadcontent.net/deadsnakes/ppa/ubuntu jammy InRelease\n",
            "Hit:10 https://ppa.launchpadcontent.net/graphics-drivers/ppa/ubuntu jammy InRelease\n",
            "Hit:11 https://ppa.launchpadcontent.net/ubuntugis/ppa/ubuntu jammy InRelease\n",
            "Reading package lists... Done\n",
            "Building dependency tree... Done\n",
            "Reading state information... Done\n",
            "38 packages can be upgraded. Run 'apt list --upgradable' to see them.\n",
            "\u001b[1;33mW: \u001b[0mSkipping acquire of configured file 'main/source/Sources' as repository 'https://r2u.stat.illinois.edu/ubuntu jammy InRelease' does not seem to provide it (sources.list entry misspelt?)\u001b[0m\n",
            "Reading package lists... Done\n",
            "Building dependency tree... Done\n",
            "Reading state information... Done\n",
            "git is already the newest version (1:2.34.1-1ubuntu1.15).\n",
            "0 upgraded, 0 newly installed, 0 to remove and 38 not upgraded.\n",
            "Cloning into '/content/repo'...\n",
            "fatal: could not read Username for 'https://github.com': No such device or address\n",
            "[Errno 2] No such file or directory: '/content/repo'\n",
            "/content\n"
          ]
        }
      ]
    },
    {
      "cell_type": "markdown",
      "metadata": {
        "id": "7add1455"
      },
      "source": [
        "## Summary:\n",
        "\n",
        "### Data Analysis Key Findings\n",
        "\n",
        "*   Attempts to install git and clone the specified GitHub repository failed consistently.\n",
        "*   The primary error encountered during cloning was \"fatal: could not read Username for 'https://github.com': No such device or address,\" indicating an authentication or access issue with the GitHub repository.\n",
        "*   Due to the failure in cloning, the target directory `/content/repo` was never created, leading to subsequent errors when trying to change the current working directory to this location.\n",
        "*   Multiple retries, including removing the target directory before cloning, resulted in the same cloning and directory change errors.\n",
        "\n",
        "### Insights or Next Steps\n",
        "\n",
        "*   The inability to clone the repository is the root cause of the task failure; resolving the GitHub authentication/access issue is necessary to proceed.\n",
        "*   Investigate the repository's access permissions and ensure the Colab environment has the necessary credentials or configuration to clone it successfully.\n"
      ]
    }
  ]
}